{
 "cells": [
  {
   "cell_type": "code",
   "execution_count": 44,
   "metadata": {},
   "outputs": [],
   "source": [
    "import numpy as np\n",
    "import pandas as pd\n",
    "\n",
    "import tensorflow as tf\n",
    "\n",
    "import tensorflow_hub as hub\n",
    "\n",
    "import matplotlib.pyplot as plt\n",
    "import seaborn as sns"
   ]
  },
  {
   "cell_type": "code",
   "execution_count": 45,
   "metadata": {},
   "outputs": [],
   "source": [
    "df = pd.read_csv('D:/BallAITH/train.csv')"
   ]
  },
  {
   "cell_type": "code",
   "execution_count": 27,
   "metadata": {},
   "outputs": [],
   "source": [
    "texts = []\n",
    "for i in range(len(df['Filename'])):\n",
    "    fn = df['Filename'][i]\n",
    "    folder = fn.split(\"-\")[0]\n",
    "    f = open('D:/BallAITH/train-data/train-data/'+folder+'/'+fn, \"rb\")\n",
    "    texts.append(f.read())\n",
    "df['text'] = texts"
   ]
  },
  {
   "cell_type": "code",
   "execution_count": 28,
   "metadata": {},
   "outputs": [],
   "source": [
    "Outcome = df.copy().drop(['Blinding of intervention','Classes'],axis=1)"
   ]
  },
  {
   "cell_type": "code",
   "execution_count": 29,
   "metadata": {},
   "outputs": [
    {
     "data": {
      "text/html": [
       "<div>\n",
       "<style scoped>\n",
       "    .dataframe tbody tr th:only-of-type {\n",
       "        vertical-align: middle;\n",
       "    }\n",
       "\n",
       "    .dataframe tbody tr th {\n",
       "        vertical-align: top;\n",
       "    }\n",
       "\n",
       "    .dataframe thead th {\n",
       "        text-align: right;\n",
       "    }\n",
       "</style>\n",
       "<table border=\"1\" class=\"dataframe\">\n",
       "  <thead>\n",
       "    <tr style=\"text-align: right;\">\n",
       "      <th></th>\n",
       "      <th>Filename</th>\n",
       "      <th>Blinding of Outcome assessment</th>\n",
       "      <th>text</th>\n",
       "    </tr>\n",
       "  </thead>\n",
       "  <tbody>\n",
       "    <tr>\n",
       "      <th>0</th>\n",
       "      <td>00060-02.txt</td>\n",
       "      <td>P</td>\n",
       "      <td>b'A Multicomponent Intervention To Prevent Maj...</td>\n",
       "    </tr>\n",
       "    <tr>\n",
       "      <th>1</th>\n",
       "      <td>00060-03.txt</td>\n",
       "      <td>N</td>\n",
       "      <td>b'Original article\\r\\nSelf-management versus c...</td>\n",
       "    </tr>\n",
       "    <tr>\n",
       "      <th>2</th>\n",
       "      <td>00060-04.txt</td>\n",
       "      <td>N</td>\n",
       "      <td>b'Original Research\\r\\nHome Management of Oral...</td>\n",
       "    </tr>\n",
       "    <tr>\n",
       "      <th>3</th>\n",
       "      <td>00060-05.txt</td>\n",
       "      <td>P</td>\n",
       "      <td>b'For personal use only. Not to be reproduced ...</td>\n",
       "    </tr>\n",
       "    <tr>\n",
       "      <th>4</th>\n",
       "      <td>00060-06.txt</td>\n",
       "      <td>P</td>\n",
       "      <td>b'\\xc2\\xa9 2016 Pozzi et al. This work is publ...</td>\n",
       "    </tr>\n",
       "    <tr>\n",
       "      <th>...</th>\n",
       "      <td>...</td>\n",
       "      <td>...</td>\n",
       "      <td>...</td>\n",
       "    </tr>\n",
       "    <tr>\n",
       "      <th>623</th>\n",
       "      <td>00458-20.txt</td>\n",
       "      <td>N</td>\n",
       "      <td>b\"\\xef\\xbb\\xbfEffect of daily versus twice wee...</td>\n",
       "    </tr>\n",
       "    <tr>\n",
       "      <th>624</th>\n",
       "      <td>00458-21.txt</td>\n",
       "      <td>P</td>\n",
       "      <td>b'\\xef\\xbb\\xbfEur J Nutr 39 : 263\\xe2\\x80\\x932...</td>\n",
       "    </tr>\n",
       "    <tr>\n",
       "      <th>625</th>\n",
       "      <td>00458-22.txt</td>\n",
       "      <td>N</td>\n",
       "      <td>b\"\\xef\\xbb\\xbfARTICLE\\r\\n \\r\\n\\r\\n \\r\\nWeekly ...</td>\n",
       "    </tr>\n",
       "    <tr>\n",
       "      <th>626</th>\n",
       "      <td>00458-24.txt</td>\n",
       "      <td>N</td>\n",
       "      <td>b'\\xef\\xbb\\xbfSymposium: Improving Adolescent ...</td>\n",
       "    </tr>\n",
       "    <tr>\n",
       "      <th>627</th>\n",
       "      <td>00458-25.txt</td>\n",
       "      <td>P</td>\n",
       "      <td>b\"\\xef\\xbb\\xbfEffectiveness of weekly vitamin ...</td>\n",
       "    </tr>\n",
       "  </tbody>\n",
       "</table>\n",
       "<p>628 rows × 3 columns</p>\n",
       "</div>"
      ],
      "text/plain": [
       "         Filename Blinding of Outcome assessment  \\\n",
       "0    00060-02.txt                              P   \n",
       "1    00060-03.txt                              N   \n",
       "2    00060-04.txt                              N   \n",
       "3    00060-05.txt                              P   \n",
       "4    00060-06.txt                              P   \n",
       "..            ...                            ...   \n",
       "623  00458-20.txt                              N   \n",
       "624  00458-21.txt                              P   \n",
       "625  00458-22.txt                              N   \n",
       "626  00458-24.txt                              N   \n",
       "627  00458-25.txt                              P   \n",
       "\n",
       "                                                  text  \n",
       "0    b'A Multicomponent Intervention To Prevent Maj...  \n",
       "1    b'Original article\\r\\nSelf-management versus c...  \n",
       "2    b'Original Research\\r\\nHome Management of Oral...  \n",
       "3    b'For personal use only. Not to be reproduced ...  \n",
       "4    b'\\xc2\\xa9 2016 Pozzi et al. This work is publ...  \n",
       "..                                                 ...  \n",
       "623  b\"\\xef\\xbb\\xbfEffect of daily versus twice wee...  \n",
       "624  b'\\xef\\xbb\\xbfEur J Nutr 39 : 263\\xe2\\x80\\x932...  \n",
       "625  b\"\\xef\\xbb\\xbfARTICLE\\r\\n \\r\\n\\r\\n \\r\\nWeekly ...  \n",
       "626  b'\\xef\\xbb\\xbfSymposium: Improving Adolescent ...  \n",
       "627  b\"\\xef\\xbb\\xbfEffectiveness of weekly vitamin ...  \n",
       "\n",
       "[628 rows x 3 columns]"
      ]
     },
     "execution_count": 29,
     "metadata": {},
     "output_type": "execute_result"
    }
   ],
   "source": [
    "Outcome"
   ]
  },
  {
   "cell_type": "code",
   "execution_count": 30,
   "metadata": {},
   "outputs": [],
   "source": [
    "train_labels,train_examples = Outcome['Blinding of Outcome assessment'],Outcome['text']\n",
    "train_labels = train_labels.replace(['N','P','Q'],[0,1,2])"
   ]
  },
  {
   "cell_type": "code",
   "execution_count": 31,
   "metadata": {},
   "outputs": [
    {
     "name": "stdout",
     "output_type": "stream",
     "text": [
      "Training entries: 628\n"
     ]
    }
   ],
   "source": [
    "print(\"Training entries: {}\".format(len(train_examples)))"
   ]
  },
  {
   "cell_type": "code",
   "execution_count": 32,
   "metadata": {},
   "outputs": [
    {
     "data": {
      "text/plain": [
       "0    b'A Multicomponent Intervention To Prevent Maj...\n",
       "1    b'Original article\\r\\nSelf-management versus c...\n",
       "2    b'Original Research\\r\\nHome Management of Oral...\n",
       "3    b'For personal use only. Not to be reproduced ...\n",
       "4    b'\\xc2\\xa9 2016 Pozzi et al. This work is publ...\n",
       "5    b'ORIGINAL ARTICLE\\r\\nA randomised controlled ...\n",
       "6    b'Primary care\\r\\nSelf management of oral anti...\n",
       "7    b'Patient self-testing is a reliable and accep...\n",
       "8    b'e292 Canadian Family Physician \\xe2\\x80\\xa2 ...\n",
       "9    b'Abstract\\r\\nThe antithrombotic effect of ora...\n",
       "Name: text, dtype: object"
      ]
     },
     "execution_count": 32,
     "metadata": {},
     "output_type": "execute_result"
    }
   ],
   "source": [
    "train_examples[:10]"
   ]
  },
  {
   "cell_type": "code",
   "execution_count": 33,
   "metadata": {},
   "outputs": [
    {
     "data": {
      "text/plain": [
       "0    1\n",
       "1    0\n",
       "2    0\n",
       "3    1\n",
       "4    1\n",
       "5    0\n",
       "6    1\n",
       "7    0\n",
       "8    1\n",
       "9    0\n",
       "Name: Blinding of Outcome assessment, dtype: int64"
      ]
     },
     "execution_count": 33,
     "metadata": {},
     "output_type": "execute_result"
    }
   ],
   "source": [
    "train_labels[:10]"
   ]
  },
  {
   "cell_type": "code",
   "execution_count": 75,
   "metadata": {},
   "outputs": [
    {
     "name": "stdout",
     "output_type": "stream",
     "text": [
      "Model: \"sequential_5\"\n",
      "_________________________________________________________________\n",
      "Layer (type)                 Output Shape              Param #   \n",
      "=================================================================\n",
      "keras_layer_5 (KerasLayer)   (None, 20)                400020    \n",
      "_________________________________________________________________\n",
      "dense_20 (Dense)             (None, 500)               10500     \n",
      "_________________________________________________________________\n",
      "dense_21 (Dense)             (None, 100)               50100     \n",
      "_________________________________________________________________\n",
      "dense_22 (Dense)             (None, 5)                 505       \n",
      "=================================================================\n",
      "Total params: 461,125\n",
      "Trainable params: 461,125\n",
      "Non-trainable params: 0\n",
      "_________________________________________________________________\n"
     ]
    }
   ],
   "source": [
    "model = (\"https://tfhub.dev/google/tf2-preview/gnews-swivel-20dim/1\")\n",
    "\n",
    "hub_layer = hub.KerasLayer(model, output_shape=[20], input_shape=[], \n",
    "                           dtype=tf.string, trainable=True)\n",
    "\n",
    "model = tf.keras.Sequential()\n",
    "model.add(hub_layer)\n",
    "model.add(tf.keras.layers.Dense(500, activation='relu'))\n",
    "model.add(tf.keras.layers.Dense(100))\n",
    "model.add(tf.keras.layers.Dense(5))\n",
    "\n",
    "model.summary()"
   ]
  },
  {
   "cell_type": "code",
   "execution_count": 76,
   "metadata": {},
   "outputs": [],
   "source": [
    "\n",
    "model.compile(\n",
    "    loss = tf.losses.SparseCategoricalCrossentropy(from_logits=True),\n",
    "    optimizer=tf.optimizers.Adam(), \n",
    "    metrics = [tf.keras.metrics.SparseCategoricalAccuracy(name=\"accuracy\")])"
   ]
  },
  {
   "cell_type": "code",
   "execution_count": 77,
   "metadata": {},
   "outputs": [],
   "source": [
    "x_val = train_examples[:100]\n",
    "partial_x_train = train_examples[100:]\n",
    "\n",
    "y_val = train_labels[:100]\n",
    "partial_y_train = train_labels[100:]"
   ]
  },
  {
   "cell_type": "code",
   "execution_count": 78,
   "metadata": {},
   "outputs": [
    {
     "name": "stdout",
     "output_type": "stream",
     "text": [
      "Epoch 1/35\n",
      "17/17 [==============================] - 1s 47ms/step - loss: 1.5062 - accuracy: 0.3939 - val_loss: 1.1545 - val_accuracy: 0.3000\n",
      "Epoch 2/35\n",
      "17/17 [==============================] - 1s 43ms/step - loss: 1.0478 - accuracy: 0.5114 - val_loss: 1.1876 - val_accuracy: 0.3400\n",
      "Epoch 3/35\n",
      "17/17 [==============================] - 1s 42ms/step - loss: 1.0572 - accuracy: 0.4848 - val_loss: 1.1731 - val_accuracy: 0.5700\n",
      "Epoch 4/35\n",
      "17/17 [==============================] - 1s 43ms/step - loss: 0.9412 - accuracy: 0.5777 - val_loss: 1.0446 - val_accuracy: 0.5700\n",
      "Epoch 5/35\n",
      "17/17 [==============================] - 1s 44ms/step - loss: 0.8626 - accuracy: 0.5890 - val_loss: 1.2242 - val_accuracy: 0.3200\n",
      "Epoch 6/35\n",
      "17/17 [==============================] - 1s 45ms/step - loss: 0.8734 - accuracy: 0.5890 - val_loss: 1.3076 - val_accuracy: 0.3800\n",
      "Epoch 7/35\n",
      "17/17 [==============================] - 1s 41ms/step - loss: 0.8556 - accuracy: 0.6042 - val_loss: 1.4361 - val_accuracy: 0.3600\n",
      "Epoch 8/35\n",
      "17/17 [==============================] - 1s 44ms/step - loss: 0.8483 - accuracy: 0.6174 - val_loss: 1.6187 - val_accuracy: 0.2900\n",
      "Epoch 9/35\n",
      "17/17 [==============================] - 1s 42ms/step - loss: 0.9430 - accuracy: 0.5909 - val_loss: 1.7265 - val_accuracy: 0.3300\n",
      "Epoch 10/35\n",
      "17/17 [==============================] - 1s 42ms/step - loss: 0.8453 - accuracy: 0.6345 - val_loss: 1.1710 - val_accuracy: 0.5900\n",
      "Epoch 11/35\n",
      "17/17 [==============================] - 1s 42ms/step - loss: 0.6533 - accuracy: 0.7481 - val_loss: 1.3280 - val_accuracy: 0.5500\n",
      "Epoch 12/35\n",
      "17/17 [==============================] - 1s 42ms/step - loss: 0.6106 - accuracy: 0.7519 - val_loss: 1.4120 - val_accuracy: 0.3700\n",
      "Epoch 13/35\n",
      "17/17 [==============================] - 1s 42ms/step - loss: 0.5437 - accuracy: 0.7879 - val_loss: 1.4276 - val_accuracy: 0.4400\n",
      "Epoch 14/35\n",
      "17/17 [==============================] - 1s 44ms/step - loss: 0.4453 - accuracy: 0.8466 - val_loss: 1.4734 - val_accuracy: 0.4600\n",
      "Epoch 15/35\n",
      "17/17 [==============================] - 1s 42ms/step - loss: 0.4309 - accuracy: 0.8466 - val_loss: 1.3501 - val_accuracy: 0.5200\n",
      "Epoch 16/35\n",
      "17/17 [==============================] - 1s 43ms/step - loss: 0.3574 - accuracy: 0.8845 - val_loss: 1.3782 - val_accuracy: 0.5300\n",
      "Epoch 17/35\n",
      "17/17 [==============================] - 1s 42ms/step - loss: 0.3180 - accuracy: 0.9072 - val_loss: 1.4071 - val_accuracy: 0.4700\n",
      "Epoch 18/35\n",
      "17/17 [==============================] - 1s 42ms/step - loss: 0.3087 - accuracy: 0.9072 - val_loss: 1.5215 - val_accuracy: 0.3900\n",
      "Epoch 19/35\n",
      "17/17 [==============================] - 1s 42ms/step - loss: 0.3189 - accuracy: 0.8902 - val_loss: 1.6917 - val_accuracy: 0.3800\n",
      "Epoch 20/35\n",
      "17/17 [==============================] - 1s 42ms/step - loss: 0.2638 - accuracy: 0.9205 - val_loss: 1.4450 - val_accuracy: 0.4900\n",
      "Epoch 21/35\n",
      "17/17 [==============================] - 1s 42ms/step - loss: 0.2269 - accuracy: 0.9299 - val_loss: 2.0661 - val_accuracy: 0.3900\n",
      "Epoch 22/35\n",
      "17/17 [==============================] - 1s 41ms/step - loss: 0.2515 - accuracy: 0.9223 - val_loss: 1.6393 - val_accuracy: 0.4700\n",
      "Epoch 23/35\n",
      "17/17 [==============================] - 1s 42ms/step - loss: 0.1895 - accuracy: 0.9375 - val_loss: 1.7289 - val_accuracy: 0.5100\n",
      "Epoch 24/35\n",
      "17/17 [==============================] - 1s 43ms/step - loss: 0.1550 - accuracy: 0.9716 - val_loss: 2.4563 - val_accuracy: 0.4000\n",
      "Epoch 25/35\n",
      "17/17 [==============================] - 1s 42ms/step - loss: 0.1529 - accuracy: 0.9735 - val_loss: 1.9899 - val_accuracy: 0.5100\n",
      "Epoch 26/35\n",
      "17/17 [==============================] - 1s 45ms/step - loss: 0.1137 - accuracy: 0.9659 - val_loss: 1.8330 - val_accuracy: 0.5300\n",
      "Epoch 27/35\n",
      "17/17 [==============================] - 1s 42ms/step - loss: 0.0982 - accuracy: 0.9830 - val_loss: 1.6972 - val_accuracy: 0.5400\n",
      "Epoch 28/35\n",
      "17/17 [==============================] - 1s 42ms/step - loss: 0.1001 - accuracy: 0.9773 - val_loss: 2.2876 - val_accuracy: 0.4300\n",
      "Epoch 29/35\n",
      "17/17 [==============================] - 1s 41ms/step - loss: 0.0912 - accuracy: 0.9811 - val_loss: 2.2252 - val_accuracy: 0.4800\n",
      "Epoch 30/35\n",
      "17/17 [==============================] - 1s 42ms/step - loss: 0.0769 - accuracy: 0.9867 - val_loss: 2.3550 - val_accuracy: 0.5500\n",
      "Epoch 31/35\n",
      "17/17 [==============================] - 1s 43ms/step - loss: 0.1364 - accuracy: 0.9678 - val_loss: 2.5076 - val_accuracy: 0.4300\n",
      "Epoch 32/35\n",
      "17/17 [==============================] - 1s 42ms/step - loss: 0.1261 - accuracy: 0.9659 - val_loss: 1.9469 - val_accuracy: 0.5300\n",
      "Epoch 33/35\n",
      "17/17 [==============================] - 1s 42ms/step - loss: 0.1819 - accuracy: 0.9545 - val_loss: 2.0064 - val_accuracy: 0.4800\n",
      "Epoch 34/35\n",
      "17/17 [==============================] - 1s 43ms/step - loss: 0.1255 - accuracy: 0.9735 - val_loss: 2.6044 - val_accuracy: 0.4200\n",
      "Epoch 35/35\n",
      "17/17 [==============================] - 1s 43ms/step - loss: 0.0685 - accuracy: 0.9848 - val_loss: 2.1084 - val_accuracy: 0.5500\n"
     ]
    }
   ],
   "source": [
    "history = model.fit(x=partial_x_train, y=partial_y_train,\n",
    "          validation_data=(x_val, y_val),\n",
    "          epochs = 35)"
   ]
  },
  {
   "cell_type": "code",
   "execution_count": 79,
   "metadata": {},
   "outputs": [
    {
     "data": {
      "text/plain": [
       "[<matplotlib.lines.Line2D at 0x200eae2cbc8>]"
      ]
     },
     "execution_count": 79,
     "metadata": {},
     "output_type": "execute_result"
    },
    {
     "data": {
      "image/png": "[encoded data removed]",
      "text/plain": [
       "<Figure size 432x288 with 1 Axes>"
      ]
     },
     "metadata": {
      "needs_background": "light"
     },
     "output_type": "display_data"
    }
   ],
   "source": [
    "plt.plot(history.history['accuracy'])\n",
    "plt.plot(history.history['val_accuracy'])"
   ]
  },
  {
   "cell_type": "code",
   "execution_count": 80,
   "metadata": {},
   "outputs": [
    {
     "name": "stdout",
     "output_type": "stream",
     "text": [
      "INFO:tensorflow:Assets written to: my_modelOutcome5\\assets\n"
     ]
    },
    {
     "name": "stderr",
     "output_type": "stream",
     "text": [
      "INFO:tensorflow:Assets written to: my_modelOutcome5\\assets\n"
     ]
    }
   ],
   "source": [
    "model.save('my_modelOutcome5')"
   ]
  },
  {
   "cell_type": "code",
   "execution_count": 81,
   "metadata": {},
   "outputs": [],
   "source": [
    "test_predictions = model.predict(train_examples)\n",
    "test_predictions = np.argmax(test_predictions, axis=-1)"
   ]
  },
  {
   "cell_type": "code",
   "execution_count": 82,
   "metadata": {},
   "outputs": [],
   "source": [
    "result_df = Outcome.copy()\n",
    "result_df[\"Predictions\"] = test_predictions\n",
    "result_df[\"Predictions\"] = result_df[\"Predictions\"].replace([0,1,2],['N','P','Q'])\n",
    "\n",
    "result_df.to_csv(\n",
    "    \"predictionsOut.csv\",\n",
    "    columns=[\"Predictions\",\"Blinding of Outcome assessment\"],\n",
    "    header=[\"Predictions\",\"Blinding of Outcome assessment\"])"
   ]
  },
  {
   "cell_type": "code",
   "execution_count": 83,
   "metadata": {},
   "outputs": [],
   "source": [
    "cm = tf.math.confusion_matrix(y_val, test_predictions[:100])\n",
    "cm = cm/cm.numpy().sum(axis=1)[:, tf.newaxis]"
   ]
  },
  {
   "cell_type": "code",
   "execution_count": 74,
   "metadata": {},
   "outputs": [
    {
     "data": {
      "text/plain": [
       "Text(33.0, 0.5, 'True')"
      ]
     },
     "execution_count": 74,
     "metadata": {},
     "output_type": "execute_result"
    },
    {
     "data": {
      "image/png": "[encoded data removed]",
      "text/plain": [
       "<Figure size 432x288 with 2 Axes>"
      ]
     },
     "metadata": {
      "needs_background": "light"
     },
     "output_type": "display_data"
    }
   ],
   "source": [
    "sns.heatmap(\n",
    "    cm, annot=True)\n",
    "plt.xlabel(\"Predicted\")\n",
    "plt.ylabel(\"True\")"
   ]
  },
  {
   "cell_type": "code",
   "execution_count": null,
   "metadata": {},
   "outputs": [],
   "source": []
  }
 ],
 "metadata": {
  "kernelspec": {
   "display_name": "Python 3",
   "language": "python",
   "name": "python3"
  },
  "language_info": {
   "codemirror_mode": {
    "name": "ipython",
    "version": 3
   },
   "file_extension": ".py",
   "mimetype": "text/x-python",
   "name": "python",
   "nbconvert_exporter": "python",
   "pygments_lexer": "ipython3",
   "version": "3.7.7"
  }
 },
 "nbformat": 4,
 "nbformat_minor": 4
}
